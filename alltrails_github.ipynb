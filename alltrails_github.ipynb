{
 "cells": [
  {
   "cell_type": "markdown",
   "id": "a5a6e3be-42b7-4649-9606-4569ae0c15d5",
   "metadata": {},
   "source": [
    "##### README\n",
    "*Code as written works for the dataframe called alltrails_sample.csv from https://github.com/danidagan/trail-reports-supplemental*\n",
    "- In this script, a topic model is run using the BERTopic architecture from https://maartengr.github.io/BERTopic\n",
    "- We run the topic model without reducting topics first then reduce topics automatically and manually, checking model output after each reduction\n",
    "- This script saves a topic model prior to topic reduction, a CSV with top terms for each topic, and a CSV with topic-document probabilities and metadata for each review\n",
    "- We imported CSVs into R for remaining anlysis"
   ]
  },
  {
   "cell_type": "markdown",
   "id": "80784f4a-6143-4874-a4b8-a61e51a7a585",
   "metadata": {},
   "source": [
    "**IMPORT DATA**"
   ]
  },
  {
   "cell_type": "code",
   "execution_count": null,
   "id": "f1e672c5-a3c1-4477-a47a-2e93f6433f7b",
   "metadata": {},
   "outputs": [],
   "source": [
    "import pandas as pd"
   ]
  },
  {
   "cell_type": "code",
   "execution_count": null,
   "id": "f3b03dc1-806e-493b-b94c-802e94b46f04",
   "metadata": {
    "tags": []
   },
   "outputs": [],
   "source": [
    "data = pd.read_csv(r'alltrails_sample.csv') # file from github\n",
    "\n",
    "# Remove excess columns\n",
    "data.rename(columns = {'Unnamed: 0': 'review_id'}, inplace = True) \n",
    "data = data.drop('X',axis = 1)\n",
    "\n",
    "# Remove AllTrails review tags\n",
    "data = data[data['review_string'] != 'Advertisement'] \n",
    "data = data[data['review_string'] != 'First to review']\n",
    "\n",
    "# Convert numeric values\n",
    "data['trail_elevchange'] = data['trail_elevchange'].replace(',','', regex=True)\n",
    "data['trail_elevchange'] = pd.to_numeric(data['trail_elevchange'])\n",
    "data['trail_elevchange'] = data['review_string'].replace('trail','', regex=True)\n",
    "data['trail_elevchange'] = data['review_string'].replace('hike','', regex=True)\n",
    "\n",
    "# Replace \"trial\" typo\n",
    "data['review_string'] = data['review_string'].replace('trial','trail', regex=True)\n",
    "\n",
    "# Check Dtypes\n",
    "print(data.info())\n",
    "\n",
    "# Set seed"
   ]
  },
  {
   "cell_type": "markdown",
   "id": "9d74fb14-c101-4bed-8ffc-e8f0f2363caf",
   "metadata": {},
   "source": [
    "**TOPIC MODEL**"
   ]
  },
  {
   "cell_type": "code",
   "execution_count": null,
   "id": "1d3dbd9d-3ef3-4b25-aa93-a75949e78bfe",
   "metadata": {
    "tags": []
   },
   "outputs": [],
   "source": [
    "from bertopic import BERTopic\n",
    "from sklearn.feature_extraction.text import CountVectorizer\n",
    "from sentence_transformers import SentenceTransformer\n",
    "from bertopic.representation import MaximalMarginalRelevance\n",
    "from bertopic import BERTopic"
   ]
  },
  {
   "cell_type": "markdown",
   "id": "9c44b9ab-1357-44ca-8e97-585420cdc92c",
   "metadata": {},
   "source": [
    "*Submodels*"
   ]
  },
  {
   "cell_type": "code",
   "execution_count": null,
   "id": "d5c947c1-2af3-475a-8112-6be530b8e668",
   "metadata": {
    "tags": []
   },
   "outputs": [],
   "source": [
    "embedding_model = SentenceTransformer('all-MiniLM-L6-v2')\n",
    "# There's a tip in the BERTopic documentation that Gensim works best for short documnets\n",
    "# More on the pretrained embedding model: https://www.sbert.net/docs/pretrained_models.html\n",
    "\n",
    "vectorizer_model = CountVectorizer(ngram_range=(1, 2), stop_words=\"english\")\n",
    "# Two-token topics to account for concepts captured by two words, e.g., parking lot\n",
    "# Default min_df/max_features because dataset is relatively small\n",
    "# Default tokenizer works well for western languages according to BERTopic documentation: https://maartengr.github.io/BERTopic/getting_started/vectorizers/vectorizers.html\n",
    "\n",
    "representation_model = MaximalMarginalRelevance(diversity=0.3)\n",
    "# By default BERTopic uses class-based TF-IDF for representation, this model uses MMR to diversify terms\n",
    "\n",
    "# I used BERTopic's default UMAP dimensionality reduction paramters\n",
    "# I used BERTopic's default HDBSCAN clustering parameters"
   ]
  },
  {
   "cell_type": "markdown",
   "id": "f1a58251-a742-4610-af0c-e04fd828352c",
   "metadata": {},
   "source": [
    "*Model*"
   ]
  },
  {
   "cell_type": "code",
   "execution_count": null,
   "id": "824587c0-9b0f-4765-a521-8802e603d396",
   "metadata": {
    "tags": []
   },
   "outputs": [],
   "source": [
    "topic_model = BERTopic(\n",
    "    representation_model=representation_model,\n",
    "    vectorizer_model=vectorizer_model,\n",
    "    embedding_model=embedding_model,\n",
    "    language='english', calculate_probabilities=True,\n",
    "    verbose=True,\n",
    "   )"
   ]
  },
  {
   "cell_type": "code",
   "execution_count": null,
   "id": "d03494b2-0f64-4895-9210-8626e5ed2664",
   "metadata": {
    "tags": []
   },
   "outputs": [],
   "source": [
    "topics, probs = topic_model.fit_transform(data['review_string'])"
   ]
  },
  {
   "cell_type": "code",
   "execution_count": null,
   "id": "92ca72bd-cdd9-48fb-b108-ef02bc8b045d",
   "metadata": {
    "tags": []
   },
   "outputs": [],
   "source": [
    "# Saving model with safetensors\n",
    "savelocation = \"\" # add file path\n",
    "embedding_model = \"sentence-transformers/all-MiniLM-L6-v2\"\n",
    "topic_model.save(savelocation, serialization=\"safetensors\", save_ctfidf=True, save_embedding_model=embedding_model)"
   ]
  },
  {
   "cell_type": "code",
   "execution_count": null,
   "id": "7f4e2792-d7df-4b45-bc96-cfbd5262b57f",
   "metadata": {},
   "outputs": [],
   "source": [
    "topic_model = BERTopic.load(savelocation)"
   ]
  },
  {
   "cell_type": "markdown",
   "id": "dc5f1c78-7427-45d5-a485-5720759efbc3",
   "metadata": {},
   "source": [
    "**OUTPUTS**"
   ]
  },
  {
   "cell_type": "markdown",
   "id": "8d4660e7-4220-4a6b-97d5-c0460d42baf2",
   "metadata": {},
   "source": [
    "*View outputs*\n",
    "<br> - rerun this section after ever iteration of topic reduction to see how output changes"
   ]
  },
  {
   "cell_type": "code",
   "execution_count": null,
   "id": "06f157bd-b9de-43d9-869b-89529b4023cf",
   "metadata": {
    "tags": []
   },
   "outputs": [],
   "source": [
    "# Retrieve top words\n",
    "saveto = \"\" # add file path .csv\n",
    "freq = topic_model.get_topic_info()\n",
    "freq.head(30)\n",
    "freq.to_csv(saveto)"
   ]
  },
  {
   "cell_type": "code",
   "execution_count": null,
   "id": "42b75b59-92f0-411c-8d08-26864f0b889e",
   "metadata": {
    "tags": []
   },
   "outputs": [],
   "source": [
    "# View intertopic distance map\n",
    "topic_model.visualize_topics()"
   ]
  },
  {
   "cell_type": "code",
   "execution_count": null,
   "id": "aa9c4ba8-2478-4451-917b-7b053dc7d5ce",
   "metadata": {
    "tags": []
   },
   "outputs": [],
   "source": [
    "# Return number of topics\n",
    "len(freq)"
   ]
  },
  {
   "cell_type": "code",
   "execution_count": null,
   "id": "fe33b9a9-22fb-4d0a-a86e-aad5b583e008",
   "metadata": {
    "tags": []
   },
   "outputs": [],
   "source": [
    "# View hierarchical clustering (tree diagram)\n",
    "topic_model.visualize_hierarchy()"
   ]
  },
  {
   "cell_type": "code",
   "execution_count": null,
   "id": "61c325bd-09de-44c6-9a6f-13cf7a04b249",
   "metadata": {
    "tags": []
   },
   "outputs": [],
   "source": [
    "# Top word scores (bar graph)\n",
    "topic_model.visualize_barchart()"
   ]
  },
  {
   "cell_type": "markdown",
   "id": "f2b1d683-ace5-474b-b007-eb1ba5a40fea",
   "metadata": {
    "collapsed": true,
    "jupyter": {
     "outputs_hidden": true
    },
    "tags": []
   },
   "source": [
    "**TOPIC REDUCTION**"
   ]
  },
  {
   "cell_type": "code",
   "execution_count": null,
   "id": "edb1b212-3791-40e1-a8d9-3adedef8b0e5",
   "metadata": {
    "tags": []
   },
   "outputs": [],
   "source": [
    "from bertopic import BERTopic"
   ]
  },
  {
   "cell_type": "code",
   "execution_count": null,
   "id": "64a6158a-d3b1-43a6-83ad-3059b9b18ca1",
   "metadata": {},
   "outputs": [],
   "source": [
    "# Reduce the number of topics automatically, uses intertopic distance\n",
    "topic_model.reduce_topics(data['review_string'], nr_topics='auto')"
   ]
  },
  {
   "cell_type": "code",
   "execution_count": null,
   "id": "84ad6e6e-26da-4efb-9bfa-fbcfdaf5d5a9",
   "metadata": {
    "tags": []
   },
   "outputs": [],
   "source": [
    "# Manually reduce after reviewing topics for similarity\n",
    "topics_to_merge = [[47, 31], # these combinations to merge were identified by viewing results after automatic topic reduction\n",
    "                   [40, 25],\n",
    "                   [33, 41],\n",
    "                   [24, 9, 5],\n",
    "                   [23, 1]]\n",
    "topic_model.merge_topics(docs, topics_to_merge)"
   ]
  },
  {
   "cell_type": "markdown",
   "id": "cee8ea6e-eb89-4fa5-8a5a-61b85aa3a889",
   "metadata": {},
   "source": [
    "**CONSTRUCT REVIEW-LEVEL CSV**"
   ]
  },
  {
   "cell_type": "markdown",
   "id": "f0d5145f-9ec3-48a9-b40a-559bba1a0a64",
   "metadata": {},
   "source": [
    "*Extracting TD probabilities*"
   ]
  },
  {
   "cell_type": "code",
   "execution_count": null,
   "id": "0d5b1dcb-c2b7-4d0a-93e8-fe5b484a9cdc",
   "metadata": {
    "tags": []
   },
   "outputs": [],
   "source": [
    "docs_dist = topic_model.approximate_distribution(data['review_string'],batch_size=500)"
   ]
  },
  {
   "cell_type": "code",
   "execution_count": null,
   "id": "f1caad0c-34e6-4a08-847f-1feb7d6a7edc",
   "metadata": {
    "tags": []
   },
   "outputs": [],
   "source": [
    "# View the number of reviews to check for issues\n",
    "print(len(data['review_string']))"
   ]
  },
  {
   "cell_type": "code",
   "execution_count": null,
   "id": "a94d4951-b147-4d8f-8f96-692e619dca76",
   "metadata": {
    "tags": []
   },
   "outputs": [],
   "source": [
    "# Create df\n",
    "array_list = docs_dist[0] # extract array\n",
    "df = pd.DataFrame(array_list) # Create a DataFrame from the list of lists\n",
    "print(df) # View (check for issues)"
   ]
  },
  {
   "cell_type": "code",
   "execution_count": null,
   "id": "1ffb3519-0058-406e-a63d-1b52609712d1",
   "metadata": {
    "tags": []
   },
   "outputs": [],
   "source": [
    "# Reset indexing to combine dataframes\n",
    "data.reset_index(drop=True, inplace=True)"
   ]
  },
  {
   "cell_type": "code",
   "execution_count": null,
   "id": "5ad5c4b4-e03e-4791-914b-c789d73a5fca",
   "metadata": {
    "tags": []
   },
   "outputs": [],
   "source": [
    "print(data.info()) # Check for indexing"
   ]
  },
  {
   "cell_type": "code",
   "execution_count": null,
   "id": "9f5196f7-1d30-405a-8744-58c87b04e8bd",
   "metadata": {
    "tags": []
   },
   "outputs": [],
   "source": [
    "print(df.info()) # Check for indexing"
   ]
  },
  {
   "cell_type": "markdown",
   "id": "dbdc1a63-6d85-4a2d-85e2-1bb78330c00e",
   "metadata": {},
   "source": [
    "*Merge dataframes*"
   ]
  },
  {
   "cell_type": "code",
   "execution_count": null,
   "id": "33d7c84d-cf06-4e82-96db-41c7afd6a09d",
   "metadata": {
    "tags": []
   },
   "outputs": [],
   "source": [
    "merged_df = pd.concat([df, data], axis=1)"
   ]
  },
  {
   "cell_type": "code",
   "execution_count": null,
   "id": "0ef9ee00-4a59-461a-95a2-7f9da4770324",
   "metadata": {
    "tags": []
   },
   "outputs": [],
   "source": [
    "# Save dataframe as csv\n",
    "saveto = \"\" # add file path\n",
    "merged_df.to_csv(saveto)"
   ]
  },
  {
   "cell_type": "markdown",
   "id": "65219716-3ebf-47ff-8c83-adeabb83b160",
   "metadata": {},
   "source": [
    "**Check coherence**"
   ]
  },
  {
   "cell_type": "code",
   "execution_count": null,
   "id": "644b4d9b-7051-45a9-b624-96931975aa67",
   "metadata": {
    "tags": []
   },
   "outputs": [],
   "source": [
    "import gensim.corpora as corpora\n",
    "\n",
    "documents = pd.DataFrame({\"Document\": data['review_string'],\n",
    "                          \"ID\": range(len(data['review_string'])),\n",
    "                          \"Topic\": topics})\n",
    "\n",
    "documents_per_topic = documents.groupby(['Topic'], as_index=False).agg({'Document': ' '.join})\n",
    "cleaned_docs = topic_model._preprocess_text(documents_per_topic.Document.values)\n",
    "\n",
    "# Extract vectorizer and analyzer from BERTopic\n",
    "vectorizer = topic_model.vectorizer_model\n",
    "analyzer = vectorizer.build_analyzer()\n",
    "\n",
    "# Extract features for Topic Coherence evaluation\n",
    "words = vectorizer.get_feature_names_out()\n",
    "tokens = [analyzer(doc) for doc in cleaned_docs]\n",
    "dictionary = corpora.Dictionary(tokens)\n",
    "corpus = [dictionary.doc2bow(token) for token in tokens]\n",
    "topic_words = [[words for words, _ in topic_model.get_topic(topic)] \n",
    "               for topic in range(len(set(topics))-1)]"
   ]
  },
  {
   "cell_type": "code",
   "execution_count": null,
   "id": "152fed5c-a19d-41f3-a212-0560381c8e22",
   "metadata": {
    "tags": []
   },
   "outputs": [],
   "source": [
    "from gensim.models.coherencemodel import CoherenceModel\n",
    "\n",
    "coherence_model = CoherenceModel(topics=topic_words, \n",
    "                                 texts=tokens, \n",
    "                                 corpus=corpus,\n",
    "                                 dictionary=dictionary, \n",
    "                                 coherence='c_v')\n",
    "coherence = coherence_model.get_coherence()"
   ]
  },
  {
   "cell_type": "code",
   "execution_count": null,
   "id": "bb06459e-2334-4d16-a1b1-7a4fcd6c2f67",
   "metadata": {
    "tags": []
   },
   "outputs": [],
   "source": [
    "print(coherence)"
   ]
  }
 ],
 "metadata": {
  "kernelspec": {
   "display_name": "Python 3 (ipykernel)",
   "language": "python",
   "name": "python3"
  },
  "language_info": {
   "codemirror_mode": {
    "name": "ipython",
    "version": 3
   },
   "file_extension": ".py",
   "mimetype": "text/x-python",
   "name": "python",
   "nbconvert_exporter": "python",
   "pygments_lexer": "ipython3",
   "version": "3.11.5"
  }
 },
 "nbformat": 4,
 "nbformat_minor": 5
}
